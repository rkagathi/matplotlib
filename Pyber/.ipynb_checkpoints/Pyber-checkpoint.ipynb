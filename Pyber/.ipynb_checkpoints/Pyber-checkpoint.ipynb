{
 "cells": [
  {
   "cell_type": "markdown",
   "metadata": {},
   "source": [
    "<h1> Oberservations </h1>\n",
    "\n",
    "<ol>\n",
    "<li> Number of Rides in the Urban was more compared to Rural area </li>\n",
    "<li> Average Fares were higher in he Rural vs Urban </li> \n",
    "<li> Suburban ares had better of both more rides and higher fares </li>    \n",
    "</ol> \n"
   ]
  },
  {
   "cell_type": "code",
   "execution_count": 83,
   "metadata": {},
   "outputs": [],
   "source": [
    "import pandas as pd\n",
    "import numpy as np\n",
    "import os\n",
    "import matplotlib.pyplot as plt\n",
    "import seaborn as sns"
   ]
  },
  {
   "cell_type": "code",
   "execution_count": 54,
   "metadata": {},
   "outputs": [],
   "source": [
    "cityPath = os.path.join(\"raw_data\", \"city_data.csv\")\n",
    "ridePath = os.path.join(\"raw_data\", \"ride_data.csv\")\n",
    "\n",
    "city_data = pd.read_csv(cityPath)\n",
    "ride_data = pd.read_csv(ridePath)"
   ]
  },
  {
   "cell_type": "code",
   "execution_count": 55,
   "metadata": {},
   "outputs": [
    {
     "data": {
      "text/plain": [
       "(             city  driver_count   type\n",
       " 0      Kelseyland            63  Urban\n",
       " 1      Nguyenbury             8  Urban\n",
       " 2    East Douglas            12  Urban\n",
       " 3   West Dawnfurt            34  Urban\n",
       " 4  Rodriguezburgh            52  Urban,\n",
       "           city                 date   fare        ride_id\n",
       " 0     Sarabury  2016-01-16 13:49:27  38.35  5403689035038\n",
       " 1    South Roy  2016-01-02 18:42:34  17.49  4036272335942\n",
       " 2  Wiseborough  2016-01-21 17:35:29  44.18  3645042422587\n",
       " 3  Spencertown  2016-07-31 14:53:22   6.87  2242596575892\n",
       " 4   Nguyenbury  2016-07-09 04:42:44   6.28  1543057793673)"
      ]
     },
     "execution_count": 55,
     "metadata": {},
     "output_type": "execute_result"
    }
   ],
   "source": [
    "city_data.head(), ride_data.head()"
   ]
  },
  {
   "cell_type": "code",
   "execution_count": 56,
   "metadata": {},
   "outputs": [],
   "source": [
    "avg_fare_by_city = ride_data.groupby(\"city\")[\"fare\"].mean().reset_index()\n"
   ]
  },
  {
   "cell_type": "code",
   "execution_count": 57,
   "metadata": {},
   "outputs": [],
   "source": [
    "avg_fare_by_city.columns = [\"city\",\"avg_fare\"]"
   ]
  },
  {
   "cell_type": "code",
   "execution_count": 58,
   "metadata": {},
   "outputs": [
    {
     "data": {
      "text/html": [
       "<div>\n",
       "<style scoped>\n",
       "    .dataframe tbody tr th:only-of-type {\n",
       "        vertical-align: middle;\n",
       "    }\n",
       "\n",
       "    .dataframe tbody tr th {\n",
       "        vertical-align: top;\n",
       "    }\n",
       "\n",
       "    .dataframe thead th {\n",
       "        text-align: right;\n",
       "    }\n",
       "</style>\n",
       "<table border=\"1\" class=\"dataframe\">\n",
       "  <thead>\n",
       "    <tr style=\"text-align: right;\">\n",
       "      <th></th>\n",
       "      <th>city</th>\n",
       "      <th>avg_fare</th>\n",
       "    </tr>\n",
       "  </thead>\n",
       "  <tbody>\n",
       "    <tr>\n",
       "      <th>0</th>\n",
       "      <td>Alvarezhaven</td>\n",
       "      <td>23.928710</td>\n",
       "    </tr>\n",
       "    <tr>\n",
       "      <th>1</th>\n",
       "      <td>Alyssaberg</td>\n",
       "      <td>20.609615</td>\n",
       "    </tr>\n",
       "    <tr>\n",
       "      <th>2</th>\n",
       "      <td>Anitamouth</td>\n",
       "      <td>37.315556</td>\n",
       "    </tr>\n",
       "    <tr>\n",
       "      <th>3</th>\n",
       "      <td>Antoniomouth</td>\n",
       "      <td>23.625000</td>\n",
       "    </tr>\n",
       "    <tr>\n",
       "      <th>4</th>\n",
       "      <td>Aprilchester</td>\n",
       "      <td>21.981579</td>\n",
       "    </tr>\n",
       "  </tbody>\n",
       "</table>\n",
       "</div>"
      ],
      "text/plain": [
       "           city   avg_fare\n",
       "0  Alvarezhaven  23.928710\n",
       "1    Alyssaberg  20.609615\n",
       "2    Anitamouth  37.315556\n",
       "3  Antoniomouth  23.625000\n",
       "4  Aprilchester  21.981579"
      ]
     },
     "execution_count": 58,
     "metadata": {},
     "output_type": "execute_result"
    }
   ],
   "source": [
    "avg_fare_by_city.head()"
   ]
  },
  {
   "cell_type": "code",
   "execution_count": 59,
   "metadata": {},
   "outputs": [],
   "source": [
    "rides_by_city = ride_data.groupby(\"city\")[\"ride_id\"].count().reset_index()\n",
    "rides_by_city.columns = [\"city\",\"number_of_rides\"]"
   ]
  },
  {
   "cell_type": "code",
   "execution_count": 60,
   "metadata": {},
   "outputs": [
    {
     "data": {
      "text/html": [
       "<div>\n",
       "<style scoped>\n",
       "    .dataframe tbody tr th:only-of-type {\n",
       "        vertical-align: middle;\n",
       "    }\n",
       "\n",
       "    .dataframe tbody tr th {\n",
       "        vertical-align: top;\n",
       "    }\n",
       "\n",
       "    .dataframe thead th {\n",
       "        text-align: right;\n",
       "    }\n",
       "</style>\n",
       "<table border=\"1\" class=\"dataframe\">\n",
       "  <thead>\n",
       "    <tr style=\"text-align: right;\">\n",
       "      <th></th>\n",
       "      <th>city</th>\n",
       "      <th>number_of_rides</th>\n",
       "    </tr>\n",
       "  </thead>\n",
       "  <tbody>\n",
       "    <tr>\n",
       "      <th>0</th>\n",
       "      <td>Alvarezhaven</td>\n",
       "      <td>31</td>\n",
       "    </tr>\n",
       "    <tr>\n",
       "      <th>1</th>\n",
       "      <td>Alyssaberg</td>\n",
       "      <td>26</td>\n",
       "    </tr>\n",
       "    <tr>\n",
       "      <th>2</th>\n",
       "      <td>Anitamouth</td>\n",
       "      <td>9</td>\n",
       "    </tr>\n",
       "    <tr>\n",
       "      <th>3</th>\n",
       "      <td>Antoniomouth</td>\n",
       "      <td>22</td>\n",
       "    </tr>\n",
       "    <tr>\n",
       "      <th>4</th>\n",
       "      <td>Aprilchester</td>\n",
       "      <td>19</td>\n",
       "    </tr>\n",
       "  </tbody>\n",
       "</table>\n",
       "</div>"
      ],
      "text/plain": [
       "           city  number_of_rides\n",
       "0  Alvarezhaven               31\n",
       "1    Alyssaberg               26\n",
       "2    Anitamouth                9\n",
       "3  Antoniomouth               22\n",
       "4  Aprilchester               19"
      ]
     },
     "execution_count": 60,
     "metadata": {},
     "output_type": "execute_result"
    }
   ],
   "source": [
    "rides_by_city.head()"
   ]
  },
  {
   "cell_type": "code",
   "execution_count": 61,
   "metadata": {},
   "outputs": [
    {
     "data": {
      "text/html": [
       "<div>\n",
       "<style scoped>\n",
       "    .dataframe tbody tr th:only-of-type {\n",
       "        vertical-align: middle;\n",
       "    }\n",
       "\n",
       "    .dataframe tbody tr th {\n",
       "        vertical-align: top;\n",
       "    }\n",
       "\n",
       "    .dataframe thead th {\n",
       "        text-align: right;\n",
       "    }\n",
       "</style>\n",
       "<table border=\"1\" class=\"dataframe\">\n",
       "  <thead>\n",
       "    <tr style=\"text-align: right;\">\n",
       "      <th></th>\n",
       "      <th>city</th>\n",
       "      <th>driver_count</th>\n",
       "    </tr>\n",
       "  </thead>\n",
       "  <tbody>\n",
       "    <tr>\n",
       "      <th>0</th>\n",
       "      <td>Alvarezhaven</td>\n",
       "      <td>21</td>\n",
       "    </tr>\n",
       "    <tr>\n",
       "      <th>1</th>\n",
       "      <td>Alyssaberg</td>\n",
       "      <td>67</td>\n",
       "    </tr>\n",
       "    <tr>\n",
       "      <th>2</th>\n",
       "      <td>Anitamouth</td>\n",
       "      <td>16</td>\n",
       "    </tr>\n",
       "    <tr>\n",
       "      <th>3</th>\n",
       "      <td>Antoniomouth</td>\n",
       "      <td>21</td>\n",
       "    </tr>\n",
       "    <tr>\n",
       "      <th>4</th>\n",
       "      <td>Aprilchester</td>\n",
       "      <td>49</td>\n",
       "    </tr>\n",
       "  </tbody>\n",
       "</table>\n",
       "</div>"
      ],
      "text/plain": [
       "           city  driver_count\n",
       "0  Alvarezhaven            21\n",
       "1    Alyssaberg            67\n",
       "2    Anitamouth            16\n",
       "3  Antoniomouth            21\n",
       "4  Aprilchester            49"
      ]
     },
     "execution_count": 61,
     "metadata": {},
     "output_type": "execute_result"
    }
   ],
   "source": [
    "# driver count by city was given in this data, but just in case of duplicates\n",
    "drivers_by_city = city_data.groupby(\"city\")[\"driver_count\"].sum().reset_index()  \n",
    "drivers_by_city.columns = [\"city\",\"driver_count\"]\n",
    "drivers_by_city.head()"
   ]
  },
  {
   "cell_type": "code",
   "execution_count": 97,
   "metadata": {},
   "outputs": [
    {
     "data": {
      "text/html": [
       "<div>\n",
       "<style scoped>\n",
       "    .dataframe tbody tr th:only-of-type {\n",
       "        vertical-align: middle;\n",
       "    }\n",
       "\n",
       "    .dataframe tbody tr th {\n",
       "        vertical-align: top;\n",
       "    }\n",
       "\n",
       "    .dataframe thead th {\n",
       "        text-align: right;\n",
       "    }\n",
       "</style>\n",
       "<table border=\"1\" class=\"dataframe\">\n",
       "  <thead>\n",
       "    <tr style=\"text-align: right;\">\n",
       "      <th></th>\n",
       "      <th>avg_fare</th>\n",
       "      <th>number_of_rides</th>\n",
       "      <th>driver_count</th>\n",
       "      <th>type</th>\n",
       "    </tr>\n",
       "  </thead>\n",
       "  <tbody>\n",
       "    <tr>\n",
       "      <th>0</th>\n",
       "      <td>23.928710</td>\n",
       "      <td>31</td>\n",
       "      <td>21</td>\n",
       "      <td>Urban</td>\n",
       "    </tr>\n",
       "    <tr>\n",
       "      <th>1</th>\n",
       "      <td>20.609615</td>\n",
       "      <td>26</td>\n",
       "      <td>67</td>\n",
       "      <td>Urban</td>\n",
       "    </tr>\n",
       "    <tr>\n",
       "      <th>2</th>\n",
       "      <td>37.315556</td>\n",
       "      <td>9</td>\n",
       "      <td>16</td>\n",
       "      <td>Suburban</td>\n",
       "    </tr>\n",
       "    <tr>\n",
       "      <th>3</th>\n",
       "      <td>23.625000</td>\n",
       "      <td>22</td>\n",
       "      <td>21</td>\n",
       "      <td>Urban</td>\n",
       "    </tr>\n",
       "    <tr>\n",
       "      <th>4</th>\n",
       "      <td>21.981579</td>\n",
       "      <td>19</td>\n",
       "      <td>49</td>\n",
       "      <td>Urban</td>\n",
       "    </tr>\n",
       "  </tbody>\n",
       "</table>\n",
       "</div>"
      ],
      "text/plain": [
       "    avg_fare  number_of_rides  driver_count      type\n",
       "0  23.928710               31            21     Urban\n",
       "1  20.609615               26            67     Urban\n",
       "2  37.315556                9            16  Suburban\n",
       "3  23.625000               22            21     Urban\n",
       "4  21.981579               19            49     Urban"
      ]
     },
     "execution_count": 97,
     "metadata": {},
     "output_type": "execute_result"
    }
   ],
   "source": [
    "city_sum_inter = pd.merge(avg_fare_by_city,rides_by_city,on=\"city\")\n",
    "city_sum = pd.merge(city_sum_inter,city_data,on=\"city\")\n",
    "city_sum.head()\n",
    "bp_city_sum = city_sum.drop(columns=\"city\").reset_index(drop=True)\n",
    "bp_city_sum = city_sum.drop(columns=\"city\").reset_index(drop=True)\n",
    "bp_city_sum.head()"
   ]
  },
  {
   "cell_type": "code",
   "execution_count": 63,
   "metadata": {},
   "outputs": [],
   "source": [
    "fare_range_int = (city_sum[\"avg_fare\"].max() - city_sum[\"avg_fare\"].min())/10\n",
    "fare_min = city_sum[\"avg_fare\"].min()\n",
    "fare_max = city_sum[\"avg_fare\"].max()\n",
    "y_axis = np.arange(fare_min, fare_max , fare_range_int)"
   ]
  },
  {
   "cell_type": "code",
   "execution_count": 146,
   "metadata": {},
   "outputs": [
    {
     "data": {
      "text/plain": [
       "Text(0.5,1,'Pyber Ride Sharing Data(2016)')"
      ]
     },
     "execution_count": 146,
     "metadata": {},
     "output_type": "execute_result"
    },
    {
     "data": {
      "image/png": "[encoded data removed]",
      "text/plain": [
       "<matplotlib.figure.Figure at 0x1a1e397748>"
      ]
     },
     "metadata": {},
     "output_type": "display_data"
    }
   ],
   "source": [
    "# plt.scatter(city_sum[\"number_of_rides\"], city_sum[\"avg_fare\"], marker=\"o\", facecolors=\"red\", \n",
    "#             edgecolors=\"black\", s=city_sum[\"driver_count\"] * 5, alpha=1)\n",
    "\n",
    "sns.lmplot(x=\"number_of_rides\", y=\"avg_fare\", data=bp_city_sum, hue=\"type\", fit_reg=False,  \n",
    "           scatter_kws={'s':bp_city_sum[\"driver_count\"] * 5, 'edgecolor':'black'}, legend=False)\n",
    "plt.xlabel(\"Total Number of Rider(Per City)\")\n",
    "plt.ylabel(\"Average Fare($)\")\n",
    "plt.legend(title=\"City Types\", loc=\"upper right\")\n",
    "plt.title(\"Pyber Ride Sharing Data(2016)\")\n",
    "\n"
   ]
  },
  {
   "cell_type": "code",
   "execution_count": 10,
   "metadata": {},
   "outputs": [
    {
     "data": {
      "text/plain": [
       "63651.31"
      ]
     },
     "execution_count": 10,
     "metadata": {},
     "output_type": "execute_result"
    }
   ],
   "source": [
    "total_fare = ride_data[\"fare\"].sum()\n",
    "total_fare"
   ]
  },
  {
   "cell_type": "code",
   "execution_count": 11,
   "metadata": {},
   "outputs": [
    {
     "data": {
      "text/html": [
       "<div>\n",
       "<style scoped>\n",
       "    .dataframe tbody tr th:only-of-type {\n",
       "        vertical-align: middle;\n",
       "    }\n",
       "\n",
       "    .dataframe tbody tr th {\n",
       "        vertical-align: top;\n",
       "    }\n",
       "\n",
       "    .dataframe thead th {\n",
       "        text-align: right;\n",
       "    }\n",
       "</style>\n",
       "<table border=\"1\" class=\"dataframe\">\n",
       "  <thead>\n",
       "    <tr style=\"text-align: right;\">\n",
       "      <th></th>\n",
       "      <th>city</th>\n",
       "      <th>driver_count</th>\n",
       "      <th>type</th>\n",
       "      <th>date</th>\n",
       "      <th>fare</th>\n",
       "      <th>ride_id</th>\n",
       "    </tr>\n",
       "  </thead>\n",
       "  <tbody>\n",
       "    <tr>\n",
       "      <th>0</th>\n",
       "      <td>Kelseyland</td>\n",
       "      <td>63</td>\n",
       "      <td>Urban</td>\n",
       "      <td>2016-08-19 04:27:52</td>\n",
       "      <td>5.51</td>\n",
       "      <td>6246006544795</td>\n",
       "    </tr>\n",
       "    <tr>\n",
       "      <th>1</th>\n",
       "      <td>Kelseyland</td>\n",
       "      <td>63</td>\n",
       "      <td>Urban</td>\n",
       "      <td>2016-04-17 06:59:50</td>\n",
       "      <td>5.54</td>\n",
       "      <td>7466473222333</td>\n",
       "    </tr>\n",
       "    <tr>\n",
       "      <th>2</th>\n",
       "      <td>Kelseyland</td>\n",
       "      <td>63</td>\n",
       "      <td>Urban</td>\n",
       "      <td>2016-05-04 15:06:07</td>\n",
       "      <td>30.54</td>\n",
       "      <td>2140501382736</td>\n",
       "    </tr>\n",
       "    <tr>\n",
       "      <th>3</th>\n",
       "      <td>Kelseyland</td>\n",
       "      <td>63</td>\n",
       "      <td>Urban</td>\n",
       "      <td>2016-01-25 20:44:56</td>\n",
       "      <td>12.08</td>\n",
       "      <td>1896987891309</td>\n",
       "    </tr>\n",
       "    <tr>\n",
       "      <th>4</th>\n",
       "      <td>Kelseyland</td>\n",
       "      <td>63</td>\n",
       "      <td>Urban</td>\n",
       "      <td>2016-08-09 18:19:47</td>\n",
       "      <td>17.91</td>\n",
       "      <td>8784212854829</td>\n",
       "    </tr>\n",
       "  </tbody>\n",
       "</table>\n",
       "</div>"
      ],
      "text/plain": [
       "         city  driver_count   type                 date   fare        ride_id\n",
       "0  Kelseyland            63  Urban  2016-08-19 04:27:52   5.51  6246006544795\n",
       "1  Kelseyland            63  Urban  2016-04-17 06:59:50   5.54  7466473222333\n",
       "2  Kelseyland            63  Urban  2016-05-04 15:06:07  30.54  2140501382736\n",
       "3  Kelseyland            63  Urban  2016-01-25 20:44:56  12.08  1896987891309\n",
       "4  Kelseyland            63  Urban  2016-08-09 18:19:47  17.91  8784212854829"
      ]
     },
     "execution_count": 11,
     "metadata": {},
     "output_type": "execute_result"
    }
   ],
   "source": [
    "city_ride_data = pd.merge(city_data,ride_data,on=\"city\")\n",
    "city_ride_data.head()"
   ]
  },
  {
   "cell_type": "code",
   "execution_count": null,
   "metadata": {},
   "outputs": [],
   "source": []
  },
  {
   "cell_type": "code",
   "execution_count": 12,
   "metadata": {},
   "outputs": [],
   "source": [
    "fare_by_city_type = city_ride_data.groupby(\"type\")[\"fare\"].sum().reset_index()\n",
    "fare_by_city_type.columns = [\"type\", \"total_fare_city\"]\n",
    "fare_by_city_type[\"percent_fare_by_city_type\"] = pd.to_numeric(fare_by_city_type[\"total_fare_city\"] * 100 / total_fare)"
   ]
  },
  {
   "cell_type": "code",
   "execution_count": 13,
   "metadata": {},
   "outputs": [
    {
     "data": {
      "text/html": [
       "<div>\n",
       "<style scoped>\n",
       "    .dataframe tbody tr th:only-of-type {\n",
       "        vertical-align: middle;\n",
       "    }\n",
       "\n",
       "    .dataframe tbody tr th {\n",
       "        vertical-align: top;\n",
       "    }\n",
       "\n",
       "    .dataframe thead th {\n",
       "        text-align: right;\n",
       "    }\n",
       "</style>\n",
       "<table border=\"1\" class=\"dataframe\">\n",
       "  <thead>\n",
       "    <tr style=\"text-align: right;\">\n",
       "      <th></th>\n",
       "      <th>type</th>\n",
       "      <th>total_fare_city</th>\n",
       "      <th>percent_fare_by_city_type</th>\n",
       "    </tr>\n",
       "  </thead>\n",
       "  <tbody>\n",
       "    <tr>\n",
       "      <th>0</th>\n",
       "      <td>Rural</td>\n",
       "      <td>4255.09</td>\n",
       "      <td>6.68500</td>\n",
       "    </tr>\n",
       "    <tr>\n",
       "      <th>1</th>\n",
       "      <td>Suburban</td>\n",
       "      <td>20335.69</td>\n",
       "      <td>31.94858</td>\n",
       "    </tr>\n",
       "    <tr>\n",
       "      <th>2</th>\n",
       "      <td>Urban</td>\n",
       "      <td>40078.34</td>\n",
       "      <td>62.96546</td>\n",
       "    </tr>\n",
       "  </tbody>\n",
       "</table>\n",
       "</div>"
      ],
      "text/plain": [
       "       type  total_fare_city  percent_fare_by_city_type\n",
       "0     Rural          4255.09                    6.68500\n",
       "1  Suburban         20335.69                   31.94858\n",
       "2     Urban         40078.34                   62.96546"
      ]
     },
     "execution_count": 13,
     "metadata": {},
     "output_type": "execute_result"
    }
   ],
   "source": [
    "fare_by_city_type"
   ]
  },
  {
   "cell_type": "code",
   "execution_count": 14,
   "metadata": {},
   "outputs": [],
   "source": [
    "rides_by_city_type = city_ride_data.groupby(\"type\")[\"ride_id\"].count().reset_index()\n",
    "rides_by_city_type.columns = [\"type\",\"rides_by_city_type\"]\n",
    "rides_by_city_type[\"percent_rides_by_city_type\"] = pd.to_numeric(rides_by_city_type[\"rides_by_city_type\"] * 100 / len(city_ride_data))"
   ]
  },
  {
   "cell_type": "code",
   "execution_count": 15,
   "metadata": {},
   "outputs": [
    {
     "data": {
      "text/html": [
       "<div>\n",
       "<style scoped>\n",
       "    .dataframe tbody tr th:only-of-type {\n",
       "        vertical-align: middle;\n",
       "    }\n",
       "\n",
       "    .dataframe tbody tr th {\n",
       "        vertical-align: top;\n",
       "    }\n",
       "\n",
       "    .dataframe thead th {\n",
       "        text-align: right;\n",
       "    }\n",
       "</style>\n",
       "<table border=\"1\" class=\"dataframe\">\n",
       "  <thead>\n",
       "    <tr style=\"text-align: right;\">\n",
       "      <th></th>\n",
       "      <th>type</th>\n",
       "      <th>rides_by_city_type</th>\n",
       "      <th>percent_rides_by_city_type</th>\n",
       "    </tr>\n",
       "  </thead>\n",
       "  <tbody>\n",
       "    <tr>\n",
       "      <th>0</th>\n",
       "      <td>Rural</td>\n",
       "      <td>125</td>\n",
       "      <td>5.193187</td>\n",
       "    </tr>\n",
       "    <tr>\n",
       "      <th>1</th>\n",
       "      <td>Suburban</td>\n",
       "      <td>657</td>\n",
       "      <td>27.295388</td>\n",
       "    </tr>\n",
       "    <tr>\n",
       "      <th>2</th>\n",
       "      <td>Urban</td>\n",
       "      <td>1625</td>\n",
       "      <td>67.511425</td>\n",
       "    </tr>\n",
       "  </tbody>\n",
       "</table>\n",
       "</div>"
      ],
      "text/plain": [
       "       type  rides_by_city_type  percent_rides_by_city_type\n",
       "0     Rural                 125                    5.193187\n",
       "1  Suburban                 657                   27.295388\n",
       "2     Urban                1625                   67.511425"
      ]
     },
     "execution_count": 15,
     "metadata": {},
     "output_type": "execute_result"
    }
   ],
   "source": [
    "rides_by_city_type"
   ]
  },
  {
   "cell_type": "code",
   "execution_count": 16,
   "metadata": {},
   "outputs": [
    {
     "data": {
      "text/html": [
       "<div>\n",
       "<style scoped>\n",
       "    .dataframe tbody tr th:only-of-type {\n",
       "        vertical-align: middle;\n",
       "    }\n",
       "\n",
       "    .dataframe tbody tr th {\n",
       "        vertical-align: top;\n",
       "    }\n",
       "\n",
       "    .dataframe thead th {\n",
       "        text-align: right;\n",
       "    }\n",
       "</style>\n",
       "<table border=\"1\" class=\"dataframe\">\n",
       "  <thead>\n",
       "    <tr style=\"text-align: right;\">\n",
       "      <th></th>\n",
       "      <th>type</th>\n",
       "      <th>drivers_by_city_type</th>\n",
       "      <th>percent_drivers_by_city_type</th>\n",
       "    </tr>\n",
       "  </thead>\n",
       "  <tbody>\n",
       "    <tr>\n",
       "      <th>0</th>\n",
       "      <td>Rural</td>\n",
       "      <td>104</td>\n",
       "      <td>3.105405</td>\n",
       "    </tr>\n",
       "    <tr>\n",
       "      <th>1</th>\n",
       "      <td>Suburban</td>\n",
       "      <td>638</td>\n",
       "      <td>19.050463</td>\n",
       "    </tr>\n",
       "    <tr>\n",
       "      <th>2</th>\n",
       "      <td>Urban</td>\n",
       "      <td>2607</td>\n",
       "      <td>77.844133</td>\n",
       "    </tr>\n",
       "  </tbody>\n",
       "</table>\n",
       "</div>"
      ],
      "text/plain": [
       "       type  drivers_by_city_type  percent_drivers_by_city_type\n",
       "0     Rural                   104                      3.105405\n",
       "1  Suburban                   638                     19.050463\n",
       "2     Urban                  2607                     77.844133"
      ]
     },
     "execution_count": 16,
     "metadata": {},
     "output_type": "execute_result"
    }
   ],
   "source": [
    "drivers_by_city_type = city_data.groupby(\"type\")[\"driver_count\"].sum().reset_index()\n",
    "drivers_by_city_type.columns = [\"type\",\"drivers_by_city_type\"]\n",
    "drivers_by_city_type[\"percent_drivers_by_city_type\"] = pd.to_numeric(drivers_by_city_type[\"drivers_by_city_type\"] * 100/ city_data[\"driver_count\"].sum())\n",
    "drivers_by_city_type"
   ]
  },
  {
   "cell_type": "code",
   "execution_count": 17,
   "metadata": {},
   "outputs": [
    {
     "data": {
      "text/html": [
       "<div>\n",
       "<style scoped>\n",
       "    .dataframe tbody tr th:only-of-type {\n",
       "        vertical-align: middle;\n",
       "    }\n",
       "\n",
       "    .dataframe tbody tr th {\n",
       "        vertical-align: top;\n",
       "    }\n",
       "\n",
       "    .dataframe thead th {\n",
       "        text-align: right;\n",
       "    }\n",
       "</style>\n",
       "<table border=\"1\" class=\"dataframe\">\n",
       "  <thead>\n",
       "    <tr style=\"text-align: right;\">\n",
       "      <th></th>\n",
       "      <th>type</th>\n",
       "      <th>rides_by_city_type</th>\n",
       "      <th>percent_rides_by_city_type</th>\n",
       "      <th>total_fare_city</th>\n",
       "      <th>percent_fare_by_city_type</th>\n",
       "      <th>drivers_by_city_type</th>\n",
       "      <th>percent_drivers_by_city_type</th>\n",
       "    </tr>\n",
       "  </thead>\n",
       "  <tbody>\n",
       "    <tr>\n",
       "      <th>0</th>\n",
       "      <td>Rural</td>\n",
       "      <td>125</td>\n",
       "      <td>5.193187</td>\n",
       "      <td>4255.09</td>\n",
       "      <td>6.68500</td>\n",
       "      <td>104</td>\n",
       "      <td>3.105405</td>\n",
       "    </tr>\n",
       "    <tr>\n",
       "      <th>1</th>\n",
       "      <td>Suburban</td>\n",
       "      <td>657</td>\n",
       "      <td>27.295388</td>\n",
       "      <td>20335.69</td>\n",
       "      <td>31.94858</td>\n",
       "      <td>638</td>\n",
       "      <td>19.050463</td>\n",
       "    </tr>\n",
       "    <tr>\n",
       "      <th>2</th>\n",
       "      <td>Urban</td>\n",
       "      <td>1625</td>\n",
       "      <td>67.511425</td>\n",
       "      <td>40078.34</td>\n",
       "      <td>62.96546</td>\n",
       "      <td>2607</td>\n",
       "      <td>77.844133</td>\n",
       "    </tr>\n",
       "  </tbody>\n",
       "</table>\n",
       "</div>"
      ],
      "text/plain": [
       "       type  rides_by_city_type  percent_rides_by_city_type  total_fare_city  \\\n",
       "0     Rural                 125                    5.193187          4255.09   \n",
       "1  Suburban                 657                   27.295388         20335.69   \n",
       "2     Urban                1625                   67.511425         40078.34   \n",
       "\n",
       "   percent_fare_by_city_type  drivers_by_city_type  \\\n",
       "0                    6.68500                   104   \n",
       "1                   31.94858                   638   \n",
       "2                   62.96546                  2607   \n",
       "\n",
       "   percent_drivers_by_city_type  \n",
       "0                      3.105405  \n",
       "1                     19.050463  \n",
       "2                     77.844133  "
      ]
     },
     "execution_count": 17,
     "metadata": {},
     "output_type": "execute_result"
    }
   ],
   "source": [
    "# type(rides_by_city_type),type(fare_by_city_type)\n",
    "type_data_inter = pd.merge(rides_by_city_type,fare_by_city_type,on=\"type\")\n",
    "type_data = pd.merge(type_data_inter,drivers_by_city_type,on=\"type\")\n",
    "type_data"
   ]
  },
  {
   "cell_type": "code",
   "execution_count": 28,
   "metadata": {},
   "outputs": [
    {
     "data": {
      "text/plain": [
       "Text(0.5,1,'% of Total Fares by City Type')"
      ]
     },
     "execution_count": 28,
     "metadata": {},
     "output_type": "execute_result"
    },
    {
     "data": {
      "image/png": "[encoded data removed]",
      "text/plain": [
       "<matplotlib.figure.Figure at 0x1102980f0>"
      ]
     },
     "metadata": {},
     "output_type": "display_data"
    }
   ],
   "source": [
    "colors = [\"yellow\",\"lightblue\",\"lightcoral\"]\n",
    "\n",
    "explode = (0,0,0.1)\n",
    "\n",
    "plt.pie(type_data[\"percent_fare_by_city_type\"], explode=explode, labels=type_data[\"type\"], colors=colors,\n",
    "        autopct=\"%1.1f%%\",shadow=True, )\n",
    "plt.title(\"% of Total Fares by City Type\")"
   ]
  },
  {
   "cell_type": "code",
   "execution_count": 29,
   "metadata": {},
   "outputs": [
    {
     "data": {
      "text/plain": [
       "Text(0.5,1,'% of Total Rides by City Type')"
      ]
     },
     "execution_count": 29,
     "metadata": {},
     "output_type": "execute_result"
    },
    {
     "data": {
      "image/png": "[encoded data removed]",
      "text/plain": [
       "<matplotlib.figure.Figure at 0x10afca908>"
      ]
     },
     "metadata": {},
     "output_type": "display_data"
    }
   ],
   "source": [
    "plt.pie(type_data[\"percent_rides_by_city_type\"], explode=explode, labels=type_data[\"type\"], colors=colors,\n",
    "        autopct=\"%1.1f%%\",shadow=True, )\n",
    "plt.title(\"% of Total Rides by City Type\")"
   ]
  },
  {
   "cell_type": "code",
   "execution_count": 31,
   "metadata": {},
   "outputs": [
    {
     "data": {
      "text/plain": [
       "Text(0.5,1,'% of Total Drivers by City Type')"
      ]
     },
     "execution_count": 31,
     "metadata": {},
     "output_type": "execute_result"
    },
    {
     "data": {
      "image/png": "[encoded data removed]",
      "text/plain": [
       "<matplotlib.figure.Figure at 0x1103886d8>"
      ]
     },
     "metadata": {},
     "output_type": "display_data"
    }
   ],
   "source": [
    "plt.pie(type_data[\"percent_drivers_by_city_type\"], explode=explode, labels=type_data[\"type\"], colors=colors,\n",
    "        autopct=\"%1.1f%%\",shadow=True, )\n",
    "plt.title(\"% of Total Drivers by City Type\")"
   ]
  },
  {
   "cell_type": "code",
   "execution_count": null,
   "metadata": {},
   "outputs": [],
   "source": []
  }
 ],
 "metadata": {
  "kernelspec": {
   "display_name": "Python 3",
   "language": "python",
   "name": "python3"
  },
  "language_info": {
   "codemirror_mode": {
    "name": "ipython",
    "version": 3
   },
   "file_extension": ".py",
   "mimetype": "text/x-python",
   "name": "python",
   "nbconvert_exporter": "python",
   "pygments_lexer": "ipython3",
   "version": "3.6.4"
  }
 },
 "nbformat": 4,
 "nbformat_minor": 2
}
